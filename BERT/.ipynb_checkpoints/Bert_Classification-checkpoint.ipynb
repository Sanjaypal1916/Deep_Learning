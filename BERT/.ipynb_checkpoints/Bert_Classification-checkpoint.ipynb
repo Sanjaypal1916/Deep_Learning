{
 "cells": [
  {
   "cell_type": "code",
   "execution_count": 3,
   "id": "d1c93dd1-3520-4e86-b728-e96744f9c75f",
   "metadata": {},
   "outputs": [],
   "source": [
    "import pandas as pd\n",
    "import tensorflow_hub as hub\n",
    "import tensorflow as tf\n",
    "import tensorflow_text as text\n",
    "import numpy as np\n",
    "import matplotlib.pyplot as plt\n",
    "import seaborn as sns\n",
    "from sklearn.model_selection import train_test_split"
   ]
  },
  {
   "cell_type": "code",
   "execution_count": 4,
   "id": "bed452e2-ea94-44e2-9c99-61063edeba50",
   "metadata": {},
   "outputs": [],
   "source": [
    "preprocessed_url = \"https://tfhub.dev/tensorflow/bert_en_uncased_preprocess/3\"\n",
    "bert_URL = \"https://tfhub.dev/tensorflow/bert_en_uncased_L-12_H-768_A-12/4\""
   ]
  },
  {
   "cell_type": "code",
   "execution_count": 5,
   "id": "240e96a6-a93b-4e7a-946c-3707fc878b6a",
   "metadata": {},
   "outputs": [
    {
     "name": "stdout",
     "output_type": "stream",
     "text": [
      "WARNING:tensorflow:Please fix your imports. Module tensorflow.python.training.tracking.data_structures has been moved to tensorflow.python.trackable.data_structures. The old module will be deleted in version 2.11.\n"
     ]
    }
   ],
   "source": [
    "preprocessed_bert = hub.KerasLayer(preprocessed_url)\n",
    "bert_model = hub.KerasLayer(bert_URL)"
   ]
  },
  {
   "cell_type": "code",
   "execution_count": 6,
   "id": "1109509a-68f7-4693-af0f-d1f65a25cb46",
   "metadata": {},
   "outputs": [],
   "source": [
    "df = pd.read_csv(\"spam.csv\", encoding=\"latin1\")"
   ]
  },
  {
   "cell_type": "code",
   "execution_count": 7,
   "id": "2c3ea3d5-5079-45c4-bcd6-7561b1b9fd08",
   "metadata": {},
   "outputs": [],
   "source": [
    "df.rename(columns={\"v1\": \"target\", \"v2\": \"text\"}, inplace=True)\n",
    "df.drop([\"Unnamed: 2\", \"Unnamed: 3\", \"Unnamed: 4\"],axis=1,  inplace=True)"
   ]
  },
  {
   "cell_type": "code",
   "execution_count": 8,
   "id": "74f518e8-7d52-4d23-b7a4-aaf75346bc55",
   "metadata": {},
   "outputs": [],
   "source": [
    "spam = df[df[\"target\"]==\"spam\"]"
   ]
  },
  {
   "cell_type": "code",
   "execution_count": 9,
   "id": "3c00e37c-8828-4e78-b581-4ba64e619abf",
   "metadata": {},
   "outputs": [],
   "source": [
    "ham = df[df[\"target\"]==\"ham\"]"
   ]
  },
  {
   "cell_type": "code",
   "execution_count": 10,
   "id": "61ad451a-2910-4d9e-a624-88dc70796ade",
   "metadata": {},
   "outputs": [],
   "source": [
    "ham = ham.sample(spam.shape[0])"
   ]
  },
  {
   "cell_type": "code",
   "execution_count": 11,
   "id": "520eccef-8b6f-4acc-bc36-098a67ee4543",
   "metadata": {},
   "outputs": [
    {
     "data": {
      "text/plain": [
       "(747, 2)"
      ]
     },
     "execution_count": 11,
     "metadata": {},
     "output_type": "execute_result"
    }
   ],
   "source": [
    "ham.shape"
   ]
  },
  {
   "cell_type": "code",
   "execution_count": 12,
   "id": "6ae90739-4024-43f6-88e7-82ece670329e",
   "metadata": {},
   "outputs": [
    {
     "data": {
      "text/plain": [
       "(747, 2)"
      ]
     },
     "execution_count": 12,
     "metadata": {},
     "output_type": "execute_result"
    }
   ],
   "source": [
    "spam.shape"
   ]
  },
  {
   "cell_type": "code",
   "execution_count": 13,
   "id": "15acad74-f91a-4e86-b773-dde8bae3ba9e",
   "metadata": {},
   "outputs": [],
   "source": [
    "dataset = pd.concat([ham, spam])"
   ]
  },
  {
   "cell_type": "code",
   "execution_count": 14,
   "id": "9b8c8f59-8da3-4542-b1ba-58bf7e665d85",
   "metadata": {},
   "outputs": [],
   "source": [
    "def converter(text):\n",
    "    if text ==  \"spam\":\n",
    "        return 1\n",
    "    else:\n",
    "        return 0"
   ]
  },
  {
   "cell_type": "code",
   "execution_count": 15,
   "id": "eb729ee3-ac17-4155-8dcb-398092734978",
   "metadata": {},
   "outputs": [],
   "source": [
    "dataset[\"target\"] = dataset[\"target\"].apply(converter)"
   ]
  },
  {
   "cell_type": "code",
   "execution_count": 16,
   "id": "3417215d-8acb-43d0-849b-cee6e49dbe25",
   "metadata": {},
   "outputs": [
    {
     "data": {
      "text/html": [
       "<div>\n",
       "<style scoped>\n",
       "    .dataframe tbody tr th:only-of-type {\n",
       "        vertical-align: middle;\n",
       "    }\n",
       "\n",
       "    .dataframe tbody tr th {\n",
       "        vertical-align: top;\n",
       "    }\n",
       "\n",
       "    .dataframe thead th {\n",
       "        text-align: right;\n",
       "    }\n",
       "</style>\n",
       "<table border=\"1\" class=\"dataframe\">\n",
       "  <thead>\n",
       "    <tr style=\"text-align: right;\">\n",
       "      <th></th>\n",
       "      <th>target</th>\n",
       "      <th>text</th>\n",
       "    </tr>\n",
       "  </thead>\n",
       "  <tbody>\n",
       "    <tr>\n",
       "      <th>4117</th>\n",
       "      <td>0</td>\n",
       "      <td>Watch lor. I saw a few swatch one i thk quite ...</td>\n",
       "    </tr>\n",
       "    <tr>\n",
       "      <th>3944</th>\n",
       "      <td>0</td>\n",
       "      <td>I will be gentle princess! We will make sweet ...</td>\n",
       "    </tr>\n",
       "    <tr>\n",
       "      <th>4016</th>\n",
       "      <td>0</td>\n",
       "      <td>Eek that's a lot of time especially since Amer...</td>\n",
       "    </tr>\n",
       "    <tr>\n",
       "      <th>793</th>\n",
       "      <td>0</td>\n",
       "      <td>Omg I want to scream. I weighed myself and I l...</td>\n",
       "    </tr>\n",
       "    <tr>\n",
       "      <th>1844</th>\n",
       "      <td>0</td>\n",
       "      <td>Da is good good player.why he is unsold.</td>\n",
       "    </tr>\n",
       "    <tr>\n",
       "      <th>...</th>\n",
       "      <td>...</td>\n",
       "      <td>...</td>\n",
       "    </tr>\n",
       "    <tr>\n",
       "      <th>5537</th>\n",
       "      <td>1</td>\n",
       "      <td>Want explicit SEX in 30 secs? Ring 02073162414...</td>\n",
       "    </tr>\n",
       "    <tr>\n",
       "      <th>5540</th>\n",
       "      <td>1</td>\n",
       "      <td>ASKED 3MOBILE IF 0870 CHATLINES INCLU IN FREE ...</td>\n",
       "    </tr>\n",
       "    <tr>\n",
       "      <th>5547</th>\n",
       "      <td>1</td>\n",
       "      <td>Had your contract mobile 11 Mnths? Latest Moto...</td>\n",
       "    </tr>\n",
       "    <tr>\n",
       "      <th>5566</th>\n",
       "      <td>1</td>\n",
       "      <td>REMINDER FROM O2: To get 2.50 pounds free call...</td>\n",
       "    </tr>\n",
       "    <tr>\n",
       "      <th>5567</th>\n",
       "      <td>1</td>\n",
       "      <td>This is the 2nd time we have tried 2 contact u...</td>\n",
       "    </tr>\n",
       "  </tbody>\n",
       "</table>\n",
       "<p>1494 rows × 2 columns</p>\n",
       "</div>"
      ],
      "text/plain": [
       "      target                                               text\n",
       "4117       0  Watch lor. I saw a few swatch one i thk quite ...\n",
       "3944       0  I will be gentle princess! We will make sweet ...\n",
       "4016       0  Eek that's a lot of time especially since Amer...\n",
       "793        0  Omg I want to scream. I weighed myself and I l...\n",
       "1844       0           Da is good good player.why he is unsold.\n",
       "...      ...                                                ...\n",
       "5537       1  Want explicit SEX in 30 secs? Ring 02073162414...\n",
       "5540       1  ASKED 3MOBILE IF 0870 CHATLINES INCLU IN FREE ...\n",
       "5547       1  Had your contract mobile 11 Mnths? Latest Moto...\n",
       "5566       1  REMINDER FROM O2: To get 2.50 pounds free call...\n",
       "5567       1  This is the 2nd time we have tried 2 contact u...\n",
       "\n",
       "[1494 rows x 2 columns]"
      ]
     },
     "execution_count": 16,
     "metadata": {},
     "output_type": "execute_result"
    }
   ],
   "source": [
    "dataset"
   ]
  },
  {
   "cell_type": "code",
   "execution_count": 17,
   "id": "9824e7e4-e8d3-48d3-a747-c4ffa086a2e6",
   "metadata": {},
   "outputs": [],
   "source": [
    "X_train, X_test, y_train, y_test = train_test_split(dataset[\"text\"],dataset[\"target\"], test_size=0.2, stratify=dataset[\"target\"] )"
   ]
  },
  {
   "cell_type": "code",
   "execution_count": 18,
   "id": "c5fba836-f6cd-499b-836c-388c93e797d1",
   "metadata": {},
   "outputs": [
    {
     "data": {
      "text/plain": [
       "0    598\n",
       "1    597\n",
       "Name: target, dtype: int64"
      ]
     },
     "execution_count": 18,
     "metadata": {},
     "output_type": "execute_result"
    }
   ],
   "source": [
    "y_train.value_counts()"
   ]
  },
  {
   "cell_type": "code",
   "execution_count": 19,
   "id": "2fad8701-2e8d-430f-84ac-f6d03d31234d",
   "metadata": {},
   "outputs": [],
   "source": [
    "input_txt = tf.keras.layers.Input(shape=(), dtype=tf.string, name=\"text\")\n",
    "process_txt = preprocessed_bert(input_txt)\n",
    "output = bert_model(process_txt)\n",
    "\n",
    "l = tf.keras.layers.Dropout(0.1, name= \"dropout\")(output[\"pooled_output\"])\n",
    "l = tf.keras.layers.Dense(1, activation=\"sigmoid\", name=\"output\")(l)\n",
    "\n",
    "model = tf.keras.Model(inputs=[input_txt], outputs=[l])\n"
   ]
  },
  {
   "cell_type": "code",
   "execution_count": 20,
   "id": "c8412092-99de-4abe-b771-ee62367bd11d",
   "metadata": {},
   "outputs": [
    {
     "name": "stdout",
     "output_type": "stream",
     "text": [
      "Model: \"model\"\n",
      "__________________________________________________________________________________________________\n",
      " Layer (type)                   Output Shape         Param #     Connected to                     \n",
      "==================================================================================================\n",
      " text (InputLayer)              [(None,)]            0           []                               \n",
      "                                                                                                  \n",
      " keras_layer (KerasLayer)       {'input_mask': (Non  0           ['text[0][0]']                   \n",
      "                                e, 128),                                                          \n",
      "                                 'input_word_ids':                                                \n",
      "                                (None, 128),                                                      \n",
      "                                 'input_type_ids':                                                \n",
      "                                (None, 128)}                                                      \n",
      "                                                                                                  \n",
      " keras_layer_1 (KerasLayer)     {'sequence_output':  109482241   ['keras_layer[0][0]',            \n",
      "                                 (None, 128, 768),                'keras_layer[0][1]',            \n",
      "                                 'default': (None,                'keras_layer[0][2]']            \n",
      "                                768),                                                             \n",
      "                                 'encoder_outputs':                                               \n",
      "                                 [(None, 128, 768),                                               \n",
      "                                 (None, 128, 768),                                                \n",
      "                                 (None, 128, 768),                                                \n",
      "                                 (None, 128, 768),                                                \n",
      "                                 (None, 128, 768),                                                \n",
      "                                 (None, 128, 768),                                                \n",
      "                                 (None, 128, 768),                                                \n",
      "                                 (None, 128, 768),                                                \n",
      "                                 (None, 128, 768),                                                \n",
      "                                 (None, 128, 768),                                                \n",
      "                                 (None, 128, 768),                                                \n",
      "                                 (None, 128, 768)],                                               \n",
      "                                 'pooled_output': (                                               \n",
      "                                None, 768)}                                                       \n",
      "                                                                                                  \n",
      " dropout (Dropout)              (None, 768)          0           ['keras_layer_1[0][13]']         \n",
      "                                                                                                  \n",
      " output (Dense)                 (None, 1)            769         ['dropout[0][0]']                \n",
      "                                                                                                  \n",
      "==================================================================================================\n",
      "Total params: 109,483,010\n",
      "Trainable params: 769\n",
      "Non-trainable params: 109,482,241\n",
      "__________________________________________________________________________________________________\n"
     ]
    }
   ],
   "source": [
    "model.summary()"
   ]
  },
  {
   "cell_type": "code",
   "execution_count": 21,
   "id": "9450d2cf-7650-411d-88ce-ec09c356d756",
   "metadata": {},
   "outputs": [],
   "source": [
    "METRICS = [\n",
    "    tf.keras.metrics.BinaryAccuracy(name=\"accuracy\"),\n",
    "    tf.keras.metrics.Precision(name=\"precision\"),\n",
    "    tf.keras.metrics.Recall(name=\"recall\"),\n",
    "]\n",
    "\n",
    "model.compile(optimizer='adam',\n",
    "              loss='binary_crossentropy',\n",
    "              metrics=METRICS)"
   ]
  },
  {
   "cell_type": "code",
   "execution_count": 22,
   "id": "6d85c451-a3e8-4741-80f2-14745126cdba",
   "metadata": {},
   "outputs": [
    {
     "name": "stdout",
     "output_type": "stream",
     "text": [
      "Epoch 1/10\n",
      "38/38 [==============================] - 32s 389ms/step - loss: 0.6371 - accuracy: 0.6268 - precision: 0.6355 - recall: 0.5930\n",
      "Epoch 2/10\n",
      "38/38 [==============================] - 15s 401ms/step - loss: 0.5046 - accuracy: 0.8126 - precision: 0.7919 - recall: 0.8476\n",
      "Epoch 3/10\n",
      "38/38 [==============================] - 15s 404ms/step - loss: 0.4397 - accuracy: 0.8536 - precision: 0.8425 - recall: 0.8693\n",
      "Epoch 4/10\n",
      "38/38 [==============================] - 15s 403ms/step - loss: 0.3858 - accuracy: 0.8795 - precision: 0.8624 - recall: 0.9028\n",
      "Epoch 5/10\n",
      "38/38 [==============================] - 15s 402ms/step - loss: 0.3588 - accuracy: 0.8795 - precision: 0.8647 - recall: 0.8995\n",
      "Epoch 6/10\n",
      "38/38 [==============================] - 15s 406ms/step - loss: 0.3328 - accuracy: 0.8887 - precision: 0.8779 - recall: 0.9028\n",
      "Epoch 7/10\n",
      "38/38 [==============================] - 15s 405ms/step - loss: 0.3172 - accuracy: 0.8979 - precision: 0.8776 - recall: 0.9246\n",
      "Epoch 8/10\n",
      "38/38 [==============================] - 15s 406ms/step - loss: 0.2976 - accuracy: 0.9004 - precision: 0.8944 - recall: 0.9079\n",
      "Epoch 9/10\n",
      "38/38 [==============================] - 15s 405ms/step - loss: 0.2883 - accuracy: 0.8979 - precision: 0.8824 - recall: 0.9179\n",
      "Epoch 10/10\n",
      "38/38 [==============================] - 15s 405ms/step - loss: 0.2708 - accuracy: 0.9088 - precision: 0.8974 - recall: 0.9229\n"
     ]
    },
    {
     "data": {
      "text/plain": [
       "<keras.callbacks.History at 0x1d0115d9750>"
      ]
     },
     "execution_count": 22,
     "metadata": {},
     "output_type": "execute_result"
    }
   ],
   "source": [
    "model.fit(X_train, y_train, epochs=10)"
   ]
  },
  {
   "cell_type": "code",
   "execution_count": 23,
   "id": "fbd6edd8-c313-4f57-8904-b6acf2e7306b",
   "metadata": {},
   "outputs": [],
   "source": [
    "def y_predictor(num):\n",
    "    if num >0.5:\n",
    "        return 1\n",
    "    elif num < 0.5:\n",
    "        return 0"
   ]
  },
  {
   "cell_type": "code",
   "execution_count": 24,
   "id": "02bfb89d-1fb2-4fd6-9cf5-5066fa536b1f",
   "metadata": {},
   "outputs": [
    {
     "name": "stdout",
     "output_type": "stream",
     "text": [
      "10/10 [==============================] - 5s 397ms/step\n"
     ]
    }
   ],
   "source": [
    "from sklearn.metrics import confusion_matrix, classification_report\n",
    "y_pred = model.predict(X_test)\n"
   ]
  },
  {
   "cell_type": "code",
   "execution_count": 25,
   "id": "6da86ec0-bae6-43c5-bc11-30d3ab80e6fc",
   "metadata": {},
   "outputs": [],
   "source": [
    "y_pred = y_pred.flatten()\n",
    "y_pred = np.where(y_pred > 0.5, 1, 0)\n"
   ]
  },
  {
   "cell_type": "code",
   "execution_count": 26,
   "id": "9a51636b-5f25-458c-846c-ea222812f234",
   "metadata": {},
   "outputs": [
    {
     "data": {
      "text/plain": [
       "array([[140,   9],\n",
       "       [ 16, 134]], dtype=int64)"
      ]
     },
     "execution_count": 26,
     "metadata": {},
     "output_type": "execute_result"
    }
   ],
   "source": [
    "cm = confusion_matrix(y_test, y_pred)\n",
    "cm"
   ]
  },
  {
   "cell_type": "code",
   "execution_count": 27,
   "id": "4b1598cf-3a93-4403-9d2e-add728f3b649",
   "metadata": {},
   "outputs": [
    {
     "name": "stdout",
     "output_type": "stream",
     "text": [
      "              precision    recall  f1-score   support\n",
      "\n",
      "           0       0.90      0.94      0.92       149\n",
      "           1       0.94      0.89      0.91       150\n",
      "\n",
      "    accuracy                           0.92       299\n",
      "   macro avg       0.92      0.92      0.92       299\n",
      "weighted avg       0.92      0.92      0.92       299\n",
      "\n"
     ]
    }
   ],
   "source": [
    "cr = classification_report(y_test, y_pred)\n",
    "print(cr)"
   ]
  },
  {
   "cell_type": "code",
   "execution_count": 28,
   "id": "8fc5b2a8-af57-49de-bb02-248a8092fa82",
   "metadata": {},
   "outputs": [
    {
     "data": {
      "text/plain": [
       "Text(50.722222222222214, 0.5, 'Truth')"
      ]
     },
     "execution_count": 28,
     "metadata": {},
     "output_type": "execute_result"
    },
    {
     "data": {
      "image/png": "[encoded data removed]",
      "text/plain": [
       "<Figure size 640x480 with 2 Axes>"
      ]
     },
     "metadata": {},
     "output_type": "display_data"
    }
   ],
   "source": [
    "from matplotlib import pyplot as plt\n",
    "import seaborn as sn\n",
    "sn.heatmap(cm, annot=True, fmt='d')\n",
    "plt.xlabel('Predicted')\n",
    "plt.ylabel('Truth')"
   ]
  },
  {
   "cell_type": "code",
   "execution_count": 29,
   "id": "b0eea11d-05a6-4d54-a94a-39f8c8ebf4a0",
   "metadata": {},
   "outputs": [
    {
     "name": "stdout",
     "output_type": "stream",
     "text": [
      "1/1 [==============================] - 1s 1s/step\n"
     ]
    },
    {
     "data": {
      "text/plain": [
       "array([[0.7362407 ],\n",
       "       [0.82490975],\n",
       "       [0.76212376],\n",
       "       [0.17226143],\n",
       "       [0.07379062]], dtype=float32)"
      ]
     },
     "execution_count": 29,
     "metadata": {},
     "output_type": "execute_result"
    }
   ],
   "source": [
    "reviews = [\n",
    "    'Enter a chance to win $5000, hurry up, offer valid until march 31, 2021',\n",
    "    'You are awarded a SiPix Digital Camera! call 09061221061 from landline. Delivery within 28days. T Cs Box177. M221BP. 2yr warranty. 150ppm. 16 . p pÂ£3.99',\n",
    "    'it to 80488. Your 500 free text messages are valid until 31 December 2005.',\n",
    "    'Hey Sam, Are you coming for a cricket game tomorrow',\n",
    "    \"Why don't you wait 'til at least wednesday to see if you get your .\"\n",
    "]\n",
    "model.predict(reviews)"
   ]
  },
  {
   "cell_type": "code",
   "execution_count": null,
   "id": "4d9ddf7a-983b-4666-b09d-509078b2acaf",
   "metadata": {},
   "outputs": [],
   "source": []
  }
 ],
 "metadata": {
  "kernelspec": {
   "display_name": "Python 3 (ipykernel)",
   "language": "python",
   "name": "python3"
  },
  "language_info": {
   "codemirror_mode": {
    "name": "ipython",
    "version": 3
   },
   "file_extension": ".py",
   "mimetype": "text/x-python",
   "name": "python",
   "nbconvert_exporter": "python",
   "pygments_lexer": "ipython3",
   "version": "3.10.16"
  }
 },
 "nbformat": 4,
 "nbformat_minor": 5
}
