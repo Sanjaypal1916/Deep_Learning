{
 "cells": [
  {
   "cell_type": "code",
   "execution_count": 1,
   "id": "9628478b-d923-42f0-89e7-e61baec03106",
   "metadata": {},
   "outputs": [],
   "source": [
    "import numpy as np \n",
    "\n",
    "ypredicted = np.array([1,1,0,0,1])\n",
    "ytruth = np.array([0.2, 0.3, 0.4, 0, 1])\n",
    "                                                                                            \n"
   ]
  },
  {
   "cell_type": "code",
   "execution_count": 23,
   "id": "cb6b41b6-0160-4efa-9964-c9dc4b2ee389",
   "metadata": {},
   "outputs": [],
   "source": [
    "def mae(yt, yp):\n",
    "    totalerror = 0  \n",
    "    for t,p in zip(yt, yp):\n",
    "        totalerror += abs(t - p)\n",
    "    print(\"total error : \", totalerror)\n",
    "    mae = totalerror/ len(yt)\n",
    "    print(\"mae : \", mae )\n",
    "    return mae\n",
    "                                                                                        # without numpy\n",
    "    "
   ]
  },
  {
   "cell_type": "code",
   "execution_count": 25,
   "id": "ea154f58-a76c-48ef-a1bc-b567dd376b9e",
   "metadata": {},
   "outputs": [
    {
     "name": "stdout",
     "output_type": "stream",
     "text": [
      "total error :  1.9\n",
      "mae :  0.38\n"
     ]
    },
    {
     "data": {
      "text/plain": [
       "0.38"
      ]
     },
     "execution_count": 25,
     "metadata": {},
     "output_type": "execute_result"
    }
   ],
   "source": [
    "mae(ytruth, ypredicted)"
   ]
  },
  {
   "cell_type": "code",
   "execution_count": 29,
   "id": "75a05127-f2e0-495b-bd06-e433cf04d44d",
   "metadata": {},
   "outputs": [
    {
     "name": "stdout",
     "output_type": "stream",
     "text": [
      "mae: 0.38\n"
     ]
    }
   ],
   "source": [
    "                                                                                        # with numpy\n",
    "k = np.mean(np.abs(ytruth - ypredicted))\n",
    "print(\"mae:\", k )"
   ]
  },
  {
   "cell_type": "code",
   "execution_count": 31,
   "id": "0c0aa1c8-c1e1-4432-9e85-85e988db8ec5",
   "metadata": {},
   "outputs": [
    {
     "data": {
      "text/plain": [
       "array([1, 1, 0, 0, 1])"
      ]
     },
     "execution_count": 31,
     "metadata": {},
     "output_type": "execute_result"
    }
   ],
   "source": [
    "ypredicted"
   ]
  },
  {
   "cell_type": "code",
   "execution_count": 55,
   "id": "274b5f00-82f4-496b-9e6a-746374ec77ce",
   "metadata": {},
   "outputs": [
    {
     "data": {
      "text/plain": [
       "array([1.e+00, 1.e+00, 1.e-15, 1.e-15, 1.e+00])"
      ]
     },
     "execution_count": 55,
     "metadata": {},
     "output_type": "execute_result"
    }
   ],
   "source": [
    "eplison = 1e-15\n",
    "\n",
    "yp = [min(1-eplison, i) for i in ypredicted]\n",
    "yp = [max(eplison, i) for i in yp]\n",
    "np.array(yp)"
   ]
  },
  {
   "cell_type": "code",
   "execution_count": 57,
   "id": "c6bdab0a-f780-4f16-91ee-d711b66a22f0",
   "metadata": {},
   "outputs": [
    {
     "data": {
      "text/plain": [
       "array([-9.99200722e-16, -9.99200722e-16, -3.45387764e+01, -3.45387764e+01,\n",
       "       -9.99200722e-16])"
      ]
     },
     "execution_count": 57,
     "metadata": {},
     "output_type": "execute_result"
    }
   ],
   "source": [
    "np.log(yp)"
   ]
  },
  {
   "cell_type": "code",
   "execution_count": 63,
   "id": "74d6959f-a4be-465f-b3a9-66cba2888273",
   "metadata": {},
   "outputs": [
    {
     "data": {
      "text/plain": [
       "13.12497490929512"
      ]
     },
     "execution_count": 63,
     "metadata": {},
     "output_type": "execute_result"
    }
   ],
   "source": [
    "-np.mean(ytruth* np.log(yp) + (1 -  ytruth) * np.log(1 - yp))"
   ]
  },
  {
   "cell_type": "code",
   "execution_count": 61,
   "id": "ec1d802f-8206-4678-97f7-1fc4d7e44ee7",
   "metadata": {},
   "outputs": [
    {
     "name": "stdout",
     "output_type": "stream",
     "text": [
      "13.12497490929512\n"
     ]
    }
   ],
   "source": [
    "import numpy as np\n",
    "\n",
    "# Ensure ytruth and yp are numpy arrays\n",
    "ytruth = np.array(ytruth)\n",
    "yp = np.array(yp)\n",
    "\n",
    "# Now compute the log loss (binary cross-entropy)\n",
    "loss = -np.mean(ytruth * np.log(yp) + (1 - ytruth) * np.log(1 - yp))\n",
    "\n",
    "print(loss)"
   ]
  },
  {
   "cell_type": "code",
   "execution_count": null,
   "id": "c1db47f8-e5bc-4bef-85de-7ad5639777f6",
   "metadata": {},
   "outputs": [],
   "source": []
  }
 ],
 "metadata": {
  "kernelspec": {
   "display_name": "Python [conda env:base] *",
   "language": "python",
   "name": "conda-base-py"
  },
  "language_info": {
   "codemirror_mode": {
    "name": "ipython",
    "version": 3
   },
   "file_extension": ".py",
   "mimetype": "text/x-python",
   "name": "python",
   "nbconvert_exporter": "python",
   "pygments_lexer": "ipython3",
   "version": "3.12.7"
  }
 },
 "nbformat": 4,
 "nbformat_minor": 5
}
