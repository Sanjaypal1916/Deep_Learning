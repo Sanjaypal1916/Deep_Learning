{
 "cells": [
  {
   "cell_type": "code",
   "execution_count": 1,
   "id": "6ade3c63-48ce-4096-a5a5-6f4bd9e444fa",
   "metadata": {},
   "outputs": [],
   "source": [
    "import tensorflow as tf \n",
    "import numpy as np\n",
    "import pandas as pd"
   ]
  },
  {
   "cell_type": "code",
   "execution_count": 2,
   "id": "de1ce1da-6959-4396-a7ac-ae48591a6732",
   "metadata": {},
   "outputs": [],
   "source": [
    "import tensorflow as tf\n",
    "tf.config.set_visible_devices([], 'GPU') \n",
    "\n",
    "gpus = tf.config.experimental.list_physical_devices('GPU')\n",
    "if gpus:\n",
    "    tf.config.experimental.set_memory_growth(gpus[0], True)"
   ]
  },
  {
   "cell_type": "code",
   "execution_count": null,
   "id": "a6e7bea9-73c4-4b09-9319-56cd96589650",
   "metadata": {},
   "outputs": [],
   "source": []
  },
  {
   "cell_type": "code",
   "execution_count": 3,
   "id": "7e156fa3-68e6-4403-aa57-f459191f5748",
   "metadata": {},
   "outputs": [
    {
     "data": {
      "text/plain": [
       "[PhysicalDevice(name='/physical_device:CPU:0', device_type='CPU'),\n",
       " PhysicalDevice(name='/physical_device:GPU:0', device_type='GPU')]"
      ]
     },
     "execution_count": 3,
     "metadata": {},
     "output_type": "execute_result"
    }
   ],
   "source": [
    "tf.config.experimental.list_physical_devices()"
   ]
  },
  {
   "cell_type": "code",
   "execution_count": 4,
   "id": "4f7bfe8f-ba5c-4b31-a2c1-d69dcd7bafc8",
   "metadata": {},
   "outputs": [
    {
     "data": {
      "text/plain": [
       "True"
      ]
     },
     "execution_count": 4,
     "metadata": {},
     "output_type": "execute_result"
    }
   ],
   "source": [
    "tf.test.is_built_with_cuda()"
   ]
  },
  {
   "cell_type": "code",
   "execution_count": 5,
   "id": "05d4827b-1335-4146-aae0-ca0569546aa7",
   "metadata": {},
   "outputs": [],
   "source": [
    "(X_train, y_train), (X_test, y_test) = tf.keras.datasets.cifar10.load_data()"
   ]
  },
  {
   "cell_type": "code",
   "execution_count": 6,
   "id": "30e43e19-2870-4136-b61f-32858fc0448d",
   "metadata": {},
   "outputs": [
    {
     "data": {
      "text/plain": [
       "(50000, 32, 32, 3)"
      ]
     },
     "execution_count": 6,
     "metadata": {},
     "output_type": "execute_result"
    }
   ],
   "source": [
    "X_train.shape"
   ]
  },
  {
   "cell_type": "code",
   "execution_count": 7,
   "id": "1fab1adc-0423-420d-b8a0-a8cf5a063378",
   "metadata": {},
   "outputs": [
    {
     "data": {
      "text/plain": [
       "(50000, 1)"
      ]
     },
     "execution_count": 7,
     "metadata": {},
     "output_type": "execute_result"
    }
   ],
   "source": [
    "y_train.shape"
   ]
  },
  {
   "cell_type": "code",
   "execution_count": 8,
   "id": "beef2e9d-ef3d-4f4b-b207-de710a2a64dc",
   "metadata": {},
   "outputs": [],
   "source": [
    "classes = [\"airplane\",\"automobile\",\"bird\",\"cat\",\"deer\",\"dog\",\"frog\",\"horse\",\"ship\",\"truck\"]"
   ]
  },
  {
   "cell_type": "code",
   "execution_count": 9,
   "id": "10f610b2-03b2-4ca7-81a1-7cd84750a8dc",
   "metadata": {},
   "outputs": [],
   "source": [
    "scaled_y_train = tf.keras.utils.to_categorical(y_train, num_classes=10, dtype='float32')\n",
    "scaled_y_test = tf.keras.utils.to_categorical(y_test, num_classes=10, dtype='float32' )"
   ]
  },
  {
   "cell_type": "code",
   "execution_count": 10,
   "id": "05dc614a-3fb5-49cc-86e4-3e3a6dcb92ec",
   "metadata": {},
   "outputs": [
    {
     "data": {
      "text/plain": [
       "array([[0., 0., 0., 0., 0., 0., 1., 0., 0., 0.],\n",
       "       [0., 0., 0., 0., 0., 0., 0., 0., 0., 1.],\n",
       "       [0., 0., 0., 0., 0., 0., 0., 0., 0., 1.],\n",
       "       [0., 0., 0., 0., 1., 0., 0., 0., 0., 0.]], dtype=float32)"
      ]
     },
     "execution_count": 10,
     "metadata": {},
     "output_type": "execute_result"
    }
   ],
   "source": [
    "scaled_y_train[:4]"
   ]
  },
  {
   "cell_type": "code",
   "execution_count": 12,
   "id": "f373c72f-3a75-4a6c-9c86-91d10191bfe6",
   "metadata": {},
   "outputs": [],
   "source": [
    "def get_model():\n",
    "    model = tf.keras.Sequential([\n",
    "        tf.keras.layers.Flatten(input_shape = (32, 32, 3)),\n",
    "        tf.keras.layers.Dense(3000, activation=\"relu\"), \n",
    "        tf.keras.layers.Dense(1000, activation=\"relu\"), \n",
    "        tf.keras.layers.Dense(10, activation=\"relu\"), \n",
    "    ])\n",
    "\n",
    "    model.compile(\n",
    "        optimizer=\"SGD\",\n",
    "        loss= \"categorical_crossentropy\",\n",
    "        metrics= [\"accuracy\"]\n",
    "    )"
   ]
  },
  {
   "cell_type": "code",
   "execution_count": 13,
   "id": "51cf5614-f948-486c-b47a-7e9352c28b9c",
   "metadata": {},
   "outputs": [],
   "source": [
    "scaled_X_train = X_train/255\n",
    "scaled_X_test = X_test/255"
   ]
  },
  {
   "cell_type": "code",
   "execution_count": 14,
   "id": "4f1f9fba-7c98-4612-a3ca-f0b33fd9b324",
   "metadata": {},
   "outputs": [],
   "source": [
    "\n",
    "scaled_X_train = np.array(scaled_X_train)\n",
    "scaled_y_train = np.array(scaled_y_train)\n",
    "\n",
    "scaled_X_test = np.array(scaled_X_test)\n",
    "scaled_y_test = np.array(scaled_y_test)\n",
    "\n",
    "tensor_train_dataset = tf.data.Dataset.from_tensor_slices((scaled_X_train, scaled_y_train))\n",
    "tensor_test_dataset = tf.data.Dataset.from_tensor_slices((scaled_X_test, scaled_y_test))"
   ]
  },
  {
   "cell_type": "code",
   "execution_count": 16,
   "id": "ad621f96-db32-48ef-b683-fe962e60526e",
   "metadata": {},
   "outputs": [
    {
     "name": "stdout",
     "output_type": "stream",
     "text": [
      "WARNING:tensorflow:NCCL is not supported when using virtual GPUs, fallingback to reduction to one device\n",
      "INFO:tensorflow:Using MirroredStrategy with devices ('/job:localhost/replica:0/task:0/device:CPU:0',)\n"
     ]
    }
   ],
   "source": [
    "strategy = tf.distribute.MirroredStrategy()"
   ]
  },
  {
   "cell_type": "code",
   "execution_count": 17,
   "id": "ca845f59-ac1c-456d-9e3c-e7accee83af2",
   "metadata": {},
   "outputs": [
    {
     "data": {
      "text/plain": [
       "1"
      ]
     },
     "execution_count": 17,
     "metadata": {},
     "output_type": "execute_result"
    }
   ],
   "source": [
    "strategy.num_replicas_in_sync"
   ]
  },
  {
   "cell_type": "code",
   "execution_count": 21,
   "id": "fa4c79eb-2e9a-4b25-b1e6-e607d819c444",
   "metadata": {},
   "outputs": [],
   "source": [
    "#considering 4 replicas\n",
    "\n",
    "batch_size_per_replica =250\n",
    "BATCH_SIZE =  batch_size_per_replica * strategy.num_replicas_in_sync\n",
    "\n",
    "train_data = tensor_train_dataset.batch(BATCH_SIZE).prefetch(tf.data.AUTOTUNE)\n"
   ]
  },
  {
   "cell_type": "code",
   "execution_count": 22,
   "id": "7c6623ae-10e4-42e1-99ee-6c8eb2dce8ec",
   "metadata": {},
   "outputs": [
    {
     "data": {
      "text/plain": [
       "<PrefetchDataset element_spec=(TensorSpec(shape=(None, 32, 32, 3), dtype=tf.float64, name=None), TensorSpec(shape=(None, 10), dtype=tf.float32, name=None))>"
      ]
     },
     "execution_count": 22,
     "metadata": {},
     "output_type": "execute_result"
    }
   ],
   "source": [
    "with strategy.scope():\n",
    "    gpu_model = get_model()\n",
    "    gpu_model.fit(train_dataset, epochs=50)"
   ]
  },
  {
   "cell_type": "code",
   "execution_count": null,
   "id": "e8fd1c2d-cff6-4406-86f8-df2f1a153674",
   "metadata": {},
   "outputs": [],
   "source": []
  }
 ],
 "metadata": {
  "kernelspec": {
   "display_name": "Python 3 (ipykernel)",
   "language": "python",
   "name": "python3"
  },
  "language_info": {
   "codemirror_mode": {
    "name": "ipython",
    "version": 3
   },
   "file_extension": ".py",
   "mimetype": "text/x-python",
   "name": "python",
   "nbconvert_exporter": "python",
   "pygments_lexer": "ipython3",
   "version": "3.10.16"
  }
 },
 "nbformat": 4,
 "nbformat_minor": 5
}
