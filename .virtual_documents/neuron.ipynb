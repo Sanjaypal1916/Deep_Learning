import numpy as np 
import pandas as pd
import matplotlib.pyplot as plt
import tensorflow as tf
from tensorflow import keras
import seaborn as sns 


(X_train, y_train),(X_test, y_test) = keras.datasets.mnist.load_data()


len(X_train)


len(X_test)


X_train.shape


X_train = X_train.reshape(60000, 28*28)
X_test = X_test.reshape(10000, 28 *28)
X_train.shape


X_train[0]


X_train.max()
X_test.max()


X_train = X_train / 255
X_test = X_test / 255



model = keras.Sequential([
    keras.layers.Dense(10, input_shape=(784,), activation = "sigmoid")
])

model.compile(
    optimizer = "adam",
    loss= "sparse_categorical_crossentropy",
    metrics = ["accuracy"]
)

model.fit(X_train, y_train, epochs = 10)


model.evaluate(X_test, y_test)


y_predicted = model.predict(X_test)
y_predicted[0]


y_predicted[0].argmax()


y_test[0]


y_pred = [np.argmax(x) for x in y_predicted]


cm = tf.math.confusion_matrix(y_test, y_pred)
cm


plt.figure(figsize=(5,5))
sns.heatmap(cm , annot = True, fmt= "d")
plt.xlabel("prediction")
plt.ylabel("truth")



model = keras.Sequential([
    keras.layers.Dense(100, input_shape=(784,), activation = "relu"),
    keras.layers.Dense(10, input_shape=(784,), activation = "sigmoid")

])

model.compile(
    optimizer = "adam",
    loss= "sparse_categorical_crossentropy",
    metrics = ["accuracy"]
)

model.fit(X_train, y_train, epochs = 10)


y_pred = model.predict(X_test)
y_pred = [np.argmax(i) for i in y_pred]



cm  = tf.math.confusion_matrix(y_test, y_pred)
cm


model.evaluate(X_test, y_test)






