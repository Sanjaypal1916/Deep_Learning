import numpy as np 
import pandas as pd
import matplotlib.pyplot as plt
import tensorflow as tf
from tensorflow import keras
import seaborn as sns 


(X_train, y_train),(X_test, y_test) = keras.datasets.mnist.load_data()


len(X_train)


len(X_test)


X_train.shape


X_train = X_train.reshape(60000, 28*28)
X_test = X_test.reshape(10000, 28 *28)
X_train.shape


X_train[0]


X_train.max()
X_test.max()


X_train = X_train / 255
X_test = X_test / 255



model = keras.Sequential([
    keras.layers.Dense(10, input_shape=(784,), activation = "sigmoid")
])

tf_callbacks = tf.keras.callbacks.TensorBoard(log_dir="logs/adam", histogram_freq=1)

model.compile(
    optimizer = "adam",
    loss= "sparse_categorical_crossentropy",
    metrics = ["accuracy"]
)

model.fit(X_train, y_train, epochs = 10, callbacks=[tf_callbacks])


%load_ext tensorboard
%tensorboard --logdir logs/adam/train



