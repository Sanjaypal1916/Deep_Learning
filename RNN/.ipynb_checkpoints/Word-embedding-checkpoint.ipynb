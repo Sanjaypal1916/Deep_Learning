{
 "cells": [
  {
   "cell_type": "code",
   "execution_count": 2,
   "id": "7f2f2843-6218-44b9-a701-90cbd790bc02",
   "metadata": {},
   "outputs": [],
   "source": [
    "import tensorflow as tf\n",
    "import numpy as np\n",
    "from tensorflow.keras.preprocessing.text import one_hot\n",
    "from tensorflow.keras.preprocessing.sequence import pad_sequences\n",
    "from tensorflow.keras.models import Sequential\n",
    "from tensorflow.keras.layers import Dense\n",
    "from tensorflow.keras.layers import Flatten\n",
    "from tensorflow.keras.layers import Embedding\n"
   ]
  },
  {
   "cell_type": "code",
   "execution_count": 3,
   "id": "27771749-1e2c-4370-8c1c-74987d1f4acb",
   "metadata": {},
   "outputs": [],
   "source": [
    "reviews = ['nice food',\n",
    "        'amazing restaurant',\n",
    "        'too good',\n",
    "        'just loved it!',\n",
    "        'will go again',\n",
    "        'horrible food',\n",
    "        'never go there',\n",
    "        'poor service',\n",
    "        'poor quality',\n",
    "        'needs improvement'\n",
    "          ]\n",
    "sentiment = np.array([1,1,1,1,1,0,0,0,0,0])\n"
   ]
  },
  {
   "cell_type": "code",
   "execution_count": 7,
   "id": "c4c9054c-283b-41c6-b3f9-279fcf48f255",
   "metadata": {},
   "outputs": [
    {
     "data": {
      "text/plain": [
       "[5, 4]"
      ]
     },
     "execution_count": 7,
     "metadata": {},
     "output_type": "execute_result"
    }
   ],
   "source": [
    "one_hot(\"amazing restaurant\", )"
   ]
  },
  {
   "cell_type": "code",
   "execution_count": 9,
   "id": "c2a3816c-243b-4315-87b2-100217266237",
   "metadata": {},
   "outputs": [],
   "source": [
    "Xreview = [one_hot(x, 30) for x in reviews]"
   ]
  },
  {
   "cell_type": "code",
   "execution_count": 10,
   "id": "60f57f31-b8bd-4c58-bfd6-f3d07df2682f",
   "metadata": {},
   "outputs": [
    {
     "data": {
      "text/plain": [
       "[[7, 1],\n",
       " [5, 4],\n",
       " [6, 17],\n",
       " [11, 5, 2],\n",
       " [17, 10, 2],\n",
       " [20, 1],\n",
       " [15, 10, 6],\n",
       " [18, 14],\n",
       " [18, 14],\n",
       " [10, 17]]"
      ]
     },
     "execution_count": 10,
     "metadata": {},
     "output_type": "execute_result"
    }
   ],
   "source": [
    "Xreview"
   ]
  },
  {
   "cell_type": "code",
   "execution_count": 11,
   "id": "2ecc8e5e-7db8-46dd-b39c-5f5a65880afd",
   "metadata": {},
   "outputs": [],
   "source": [
    "Xseq = pad_sequences(Xreview, padding='post', maxlen=4)"
   ]
  },
  {
   "cell_type": "code",
   "execution_count": 12,
   "id": "6be0798f-0dff-4680-ad94-9cdf9a00ed12",
   "metadata": {},
   "outputs": [
    {
     "data": {
      "text/plain": [
       "array([[ 7,  1,  0,  0],\n",
       "       [ 5,  4,  0,  0],\n",
       "       [ 6, 17,  0,  0],\n",
       "       [11,  5,  2,  0],\n",
       "       [17, 10,  2,  0],\n",
       "       [20,  1,  0,  0],\n",
       "       [15, 10,  6,  0],\n",
       "       [18, 14,  0,  0],\n",
       "       [18, 14,  0,  0],\n",
       "       [10, 17,  0,  0]])"
      ]
     },
     "execution_count": 12,
     "metadata": {},
     "output_type": "execute_result"
    }
   ],
   "source": [
    "Xseq"
   ]
  },
  {
   "cell_type": "code",
   "execution_count": 13,
   "id": "124b6f9d-6bcc-4d8b-aa2a-3f63141f0935",
   "metadata": {},
   "outputs": [
    {
     "name": "stdout",
     "output_type": "stream",
     "text": [
      "Model: \"sequential\"\n",
      "_________________________________________________________________\n",
      " Layer (type)                Output Shape              Param #   \n",
      "=================================================================\n",
      " embedding (Embedding)       (None, 4, 4)              120       \n",
      "                                                                 \n",
      " flatten (Flatten)           (None, 16)                0         \n",
      "                                                                 \n",
      " dense (Dense)               (None, 1)                 17        \n",
      "                                                                 \n",
      "=================================================================\n",
      "Total params: 137\n",
      "Trainable params: 137\n",
      "Non-trainable params: 0\n",
      "_________________________________________________________________\n",
      "None\n"
     ]
    }
   ],
   "source": [
    "embedded_vocal_output = 4\n",
    "\n",
    "model = Sequential()\n",
    "model.add(Embedding(30, embedded_vocal_output, input_length=4, name=\"embedding\"))\n",
    "model.add(Flatten())\n",
    "model.add(Dense(1, activation=\"sigmoid\"))\n",
    "\n",
    "model.compile(optimizer='adam', loss='binary_crossentropy', metrics=['accuracy'])\n",
    "print(model.summary())"
   ]
  },
  {
   "cell_type": "code",
   "execution_count": 14,
   "id": "414c8d3b-6d91-4af4-a835-ab547ac19436",
   "metadata": {},
   "outputs": [
    {
     "data": {
      "text/plain": [
       "<keras.callbacks.History at 0x1da50697c70>"
      ]
     },
     "execution_count": 14,
     "metadata": {},
     "output_type": "execute_result"
    }
   ],
   "source": [
    "X = Xseq\n",
    "y = sentiment\n",
    "\n",
    "model.fit(X, y, epochs=50, verbose=0)"
   ]
  },
  {
   "cell_type": "code",
   "execution_count": 16,
   "id": "6cb778f0-70b2-4067-a4e2-bf28e4432e6f",
   "metadata": {},
   "outputs": [
    {
     "name": "stdout",
     "output_type": "stream",
     "text": [
      "1/1 [==============================] - 0s 131ms/step - loss: 0.6474 - accuracy: 1.0000\n"
     ]
    },
    {
     "data": {
      "text/plain": [
       "[0.6473568677902222, 1.0]"
      ]
     },
     "execution_count": 16,
     "metadata": {},
     "output_type": "execute_result"
    }
   ],
   "source": [
    "model.evaluate(X, y)"
   ]
  },
  {
   "cell_type": "code",
   "execution_count": 17,
   "id": "5f4dd40a-9e0b-4571-a55e-c61c8b16ac4b",
   "metadata": {},
   "outputs": [
    {
     "data": {
      "text/plain": [
       "30"
      ]
     },
     "execution_count": 17,
     "metadata": {},
     "output_type": "execute_result"
    }
   ],
   "source": [
    "weights = model.get_layer('embedding').get_weights()[0]\n",
    "len(weights)"
   ]
  },
  {
   "cell_type": "code",
   "execution_count": 18,
   "id": "74cb969d-3d9b-4239-aae1-e25c629db51e",
   "metadata": {},
   "outputs": [
    {
     "data": {
      "text/plain": [
       "array([-0.03887748, -0.02486826, -0.01466324, -0.01666778], dtype=float32)"
      ]
     },
     "execution_count": 18,
     "metadata": {},
     "output_type": "execute_result"
    }
   ],
   "source": [
    "weights[13]"
   ]
  },
  {
   "cell_type": "code",
   "execution_count": null,
   "id": "8ffc44aa-50d2-422d-879b-dbbd4db6a65d",
   "metadata": {},
   "outputs": [],
   "source": []
  }
 ],
 "metadata": {
  "kernelspec": {
   "display_name": "Python 3 (ipykernel)",
   "language": "python",
   "name": "python3"
  },
  "language_info": {
   "codemirror_mode": {
    "name": "ipython",
    "version": 3
   },
   "file_extension": ".py",
   "mimetype": "text/x-python",
   "name": "python",
   "nbconvert_exporter": "python",
   "pygments_lexer": "ipython3",
   "version": "3.10.16"
  }
 },
 "nbformat": 4,
 "nbformat_minor": 5
}
