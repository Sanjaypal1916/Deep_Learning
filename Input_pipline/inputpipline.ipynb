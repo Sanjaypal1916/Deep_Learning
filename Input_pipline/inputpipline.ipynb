{
 "cells": [
  {
   "cell_type": "code",
   "execution_count": 2,
   "id": "38742048-130a-4557-a9dd-aa21f4b2e837",
   "metadata": {},
   "outputs": [],
   "source": [
    "import tensorflow as tf\n"
   ]
  },
  {
   "cell_type": "code",
   "execution_count": 3,
   "id": "076fe5d2-473d-4a1c-bf98-b1c6c809d246",
   "metadata": {},
   "outputs": [],
   "source": [
    "data_sales = [21, 34,24,23, -13, -70]\n",
    "dataset = tf.data.Dataset.from_tensor_slices(data_sales)"
   ]
  },
  {
   "cell_type": "code",
   "execution_count": 4,
   "id": "a8794d72-f159-41b5-87e4-14deb2f8e446",
   "metadata": {},
   "outputs": [
    {
     "data": {
      "text/plain": [
       "<TensorSliceDataset element_spec=TensorSpec(shape=(), dtype=tf.int32, name=None)>"
      ]
     },
     "execution_count": 4,
     "metadata": {},
     "output_type": "execute_result"
    }
   ],
   "source": [
    "dataset"
   ]
  },
  {
   "cell_type": "code",
   "execution_count": 5,
   "id": "65cd5f8e-8098-4f28-ac2e-c242d5f15520",
   "metadata": {},
   "outputs": [
    {
     "name": "stdout",
     "output_type": "stream",
     "text": [
      "tf.Tensor(21, shape=(), dtype=int32)\n",
      "tf.Tensor(34, shape=(), dtype=int32)\n",
      "tf.Tensor(24, shape=(), dtype=int32)\n",
      "tf.Tensor(23, shape=(), dtype=int32)\n",
      "tf.Tensor(-13, shape=(), dtype=int32)\n",
      "tf.Tensor(-70, shape=(), dtype=int32)\n"
     ]
    }
   ],
   "source": [
    "for i in dataset:\n",
    "    print(i)"
   ]
  },
  {
   "cell_type": "code",
   "execution_count": 6,
   "id": "a2ba84ce-a767-47a0-93b7-560b16a7dc61",
   "metadata": {},
   "outputs": [
    {
     "name": "stdout",
     "output_type": "stream",
     "text": [
      "21\n",
      "34\n",
      "24\n",
      "23\n",
      "-13\n",
      "-70\n"
     ]
    }
   ],
   "source": [
    "for i in dataset.as_numpy_iterator():\n",
    "    print(i)"
   ]
  },
  {
   "cell_type": "code",
   "execution_count": 7,
   "id": "42e6764b-7a35-44f1-8c8a-d17e855eef6c",
   "metadata": {},
   "outputs": [
    {
     "name": "stdout",
     "output_type": "stream",
     "text": [
      "21\n",
      "34\n",
      "24\n",
      "23\n"
     ]
    }
   ],
   "source": [
    "for i in dataset.filter(lambda x: x>0):\n",
    "    print(i.numpy())"
   ]
  },
  {
   "cell_type": "code",
   "execution_count": 8,
   "id": "3eaba73c-cf74-4462-8bb2-cd9bc40f7279",
   "metadata": {},
   "outputs": [
    {
     "name": "stdout",
     "output_type": "stream",
     "text": [
      "1869\n",
      "3026\n",
      "2136\n",
      "2047\n",
      "-1157\n",
      "-6230\n"
     ]
    }
   ],
   "source": [
    "for i in dataset.map(lambda x: x*89):\n",
    "    print(i.numpy())"
   ]
  },
  {
   "cell_type": "code",
   "execution_count": 9,
   "id": "4dec5198-2280-410e-80f1-5d98fbf1c989",
   "metadata": {},
   "outputs": [
    {
     "name": "stdout",
     "output_type": "stream",
     "text": [
      "24\n",
      "34\n",
      "21\n",
      "23\n",
      "-70\n",
      "-13\n"
     ]
    }
   ],
   "source": [
    "for i in dataset.shuffle(3):\n",
    "    print(i.numpy())"
   ]
  },
  {
   "cell_type": "code",
   "execution_count": 10,
   "id": "c9d211ff-ff4b-4583-b8d0-9c8381183e0f",
   "metadata": {},
   "outputs": [
    {
     "name": "stdout",
     "output_type": "stream",
     "text": [
      "[21 34 24]\n",
      "[ 23 -13 -70]\n"
     ]
    }
   ],
   "source": [
    "for i in dataset.batch(3):\n",
    "    print(i.numpy())"
   ]
  },
  {
   "cell_type": "code",
   "execution_count": 11,
   "id": "aa3f12e0-1d7c-413f-828d-475a16fffc1d",
   "metadata": {},
   "outputs": [
    {
     "name": "stdout",
     "output_type": "stream",
     "text": [
      "21\n",
      "34\n",
      "24\n",
      "23\n",
      "-13\n"
     ]
    }
   ],
   "source": [
    "for i in dataset.take(5):\n",
    "    print(i.numpy())"
   ]
  },
  {
   "cell_type": "code",
   "execution_count": 12,
   "id": "76ce404b-f8ee-40e4-8be2-99a875e9e1f4",
   "metadata": {},
   "outputs": [],
   "source": [
    "dataset = tf.data.Dataset.list_files(\"reviews/*/*\", shuffle=False)"
   ]
  },
  {
   "cell_type": "code",
   "execution_count": 30,
   "id": "585dd5fd-fdee-47d9-a277-7211ef8feaf6",
   "metadata": {},
   "outputs": [
    {
     "name": "stdout",
     "output_type": "stream",
     "text": [
      "tf.Tensor(b'reviews\\\\negative\\\\neg_1.txt', shape=(), dtype=string)\n",
      "tf.Tensor(b'reviews\\\\negative\\\\neg_2.txt', shape=(), dtype=string)\n",
      "tf.Tensor(b'reviews\\\\negative\\\\neg_3.txt', shape=(), dtype=string)\n",
      "tf.Tensor(b'reviews\\\\positive\\\\pos_1.txt', shape=(), dtype=string)\n",
      "tf.Tensor(b'reviews\\\\positive\\\\pos_2.txt', shape=(), dtype=string)\n",
      "tf.Tensor(b'reviews\\\\positive\\\\pos_3.txt', shape=(), dtype=string)\n"
     ]
    }
   ],
   "source": [
    "\n",
    "for i in dataset:\n",
    "    print (i)"
   ]
  },
  {
   "cell_type": "code",
   "execution_count": 24,
   "id": "96145b41-3ab8-4ce9-91ea-febe41e2e13d",
   "metadata": {},
   "outputs": [],
   "source": [
    "import os\n",
    "label = tf.strings.split(filepath, os.path.sep)"
   ]
  },
  {
   "cell_type": "code",
   "execution_count": 28,
   "id": "dff76c73-c5ab-4441-bff7-626d2004a680",
   "metadata": {},
   "outputs": [
    {
     "data": {
      "text/plain": [
       "b'positive'"
      ]
     },
     "execution_count": 28,
     "metadata": {},
     "output_type": "execute_result"
    }
   ],
   "source": []
  },
  {
   "cell_type": "code",
   "execution_count": 41,
   "id": "f384d5a3-d866-48f3-945c-9095b892477c",
   "metadata": {},
   "outputs": [],
   "source": [
    "def transformer(path):\n",
    "    label = tf.strings.split(path, os.path.sep)\n",
    "    text = tf.io.read_file(path)\n",
    "    return label[1], text"
   ]
  },
  {
   "cell_type": "code",
   "execution_count": 42,
   "id": "cb7c42af-c840-4ae2-a008-946788b8f0c3",
   "metadata": {},
   "outputs": [],
   "source": [
    "tensor_ds = dataset.map(transformer)"
   ]
  },
  {
   "cell_type": "code",
   "execution_count": 44,
   "id": "860c9633-0917-40f4-8cfa-de84c063fce9",
   "metadata": {},
   "outputs": [
    {
     "name": "stdout",
     "output_type": "stream",
     "text": [
      "label :  b'negative'\n",
      "TEXT :  b\"Basically there's a family where a little boy (Jake) thinks there's a zombie in his closet & his parents are fighting all the time.<br /><br />This movie is slower than a soap opera... and suddenly, Jake decides to become Rambo and kill the zombie.<br /><br />OK, first of all when you're going to make a film you must Decide if its a thriller or a drama! As a drama the movie is watchable. Parents are divorcing & arguing like in real life. And then we have Jake with his closet which totally ruins all the film! I expected to see a BOOGEYMAN similar movie, and instead i watched a drama with some meaningless thriller spots.<br /><br />3 out of 10 just for the well playing parents & descent dialogs. As for the shots with Jake: just ignore them.\\n\"\n",
      "label :  b'negative'\n",
      "TEXT :  b\"This show was an amazing, fresh & innovative idea in the 70's when it first aired. The first 7 or 8 years were brilliant, but things dropped off after that. By 1990, the show was not really funny anymore, and it's continued its decline further to the complete waste of time it is today.<br /><br />It's truly disgraceful how far this show has fallen. The writing is painfully bad, the performances are almost as bad - if not for the mildly entertaining respite of the guest-hosts, this show probably wouldn't still be on the air. I find it so hard to believe that the same creator that hand-selected the original cast also chose the band of hacks that followed. How can one recognize such brilliance and then see fit to replace it with such mediocrity? I felt I must give 2 stars out of respect for the original cast that made this show such a huge success. As it is now, the show is just awful. I can't believe it's still on the air.\\n\"\n",
      "label :  b'negative'\n",
      "TEXT :  b''\n",
      "label :  b'positive'\n",
      "TEXT :  b\"One of the other reviewers has mentioned that after watching just 1 Oz episode you'll be hooked. They are right, as this is exactly what happened with me.<br /><br />The first thing that struck me about Oz was its brutality and unflinching scenes of violence, which set in right from the word GO. Trust me, this is not a show for the faint hearted or timid. This show pulls no punches with regards to drugs, sex or violence. Its is hardcore, in the classic use of the word.<br /><br />It is called OZ as that is the nickname given to the Oswald Maximum Security State Penitentary. It focuses mainly on Emerald City, an experimental section of the prison where all the cells have glass fronts and face inwards, so privacy is not high on the agenda. Em City is home to many..Aryans, Muslims, gangstas, Latinos, Christians, Italians, Irish and more....so scuffles, death stares, dodgy dealings and shady agreements are never far away.<br /><br />I would say the main appeal of the show is due to the fact that it goes where other shows wouldn't dare. Forget pretty pictures painted for mainstream audiences, forget charm, forget romance...OZ doesn't mess around. The first episode I ever saw struck me as so nasty it was surreal, I couldn't say I was ready for it, but as I watched more, I developed a taste for Oz, and got accustomed to the high levels of graphic violence. Not just violence, but injustice (crooked guards who'll be sold out for a nickel, inmates who'll kill on order and get away with it, well mannered, middle class inmates being turned into prison bitches due to their lack of street skills or prison experience) Watching Oz, you may become comfortable with what is uncomfortable viewing....thats if you can get in touch with your darker side.\\n\"\n",
      "label :  b'positive'\n",
      "TEXT :  b'A wonderful little production. <br /><br />The filming technique is very unassuming- very old-time-BBC fashion and gives a comforting, and sometimes discomforting, sense of realism to the entire piece. <br /><br />The actors are extremely well chosen- Michael Sheen not only \"has got all the polari\" but he has all the voices down pat too! You can truly see the seamless editing guided by the references to Williams\\' diary entries, not only is it well worth the watching but it is a terrificly written and performed piece. A masterful production about one of the great master\\'s of comedy and his life. <br /><br />The realism really comes home with the little things: the fantasy of the guard which, rather than use the traditional \\'dream\\' techniques remains solid then disappears. It plays on our knowledge and our senses, particularly with the scenes concerning Orton and Halliwell and the sets (particularly of their flat with Halliwell\\'s murals decorating every surface) are terribly well done.\\n'\n",
      "label :  b'positive'\n",
      "TEXT :  b''\n"
     ]
    }
   ],
   "source": [
    "for label, text in tensor_ds:\n",
    "    print(\"label : \", label.numpy())\n",
    "    print(\"TEXT : \", text.numpy())"
   ]
  },
  {
   "cell_type": "code",
   "execution_count": 51,
   "id": "4b99bd47-a3b4-423a-8ca0-e6ff24d49f04",
   "metadata": {},
   "outputs": [],
   "source": [
    "tensor_ds = tensor_ds.filter(lambda labels, text: text!=\"\")"
   ]
  },
  {
   "cell_type": "code",
   "execution_count": 57,
   "id": "6da47876-4908-4313-aaae-eb4b63b70da7",
   "metadata": {},
   "outputs": [],
   "source": [
    "tendataset = tf.data.Dataset.list_files(\"reviews/*/*\", shuffle=False).map(transformer).filter(lambda label, text: text!=\"\").shuffle(3).batch(2)"
   ]
  },
  {
   "cell_type": "code",
   "execution_count": 58,
   "id": "88ada388-f474-4af0-8f7e-c9c0296f5777",
   "metadata": {},
   "outputs": [
    {
     "name": "stdout",
     "output_type": "stream",
     "text": [
      "label :  [b'negative' b'positive']\n",
      "text :  [b\"This show was an amazing, fresh & innovative idea in the 70's when it first aired. The first 7 or 8 years were brilliant, but things dropped off after that. By 1990, the show was not really funny anymore, and it's continued its decline further to the complete waste of time it is today.<br /><br />It's truly disgraceful how far this show has fallen. The writing is painfully bad, the performances are almost as bad - if not for the mildly entertaining respite of the guest-hosts, this show probably wouldn't still be on the air. I find it so hard to believe that the same creator that hand-selected the original cast also chose the band of hacks that followed. How can one recognize such brilliance and then see fit to replace it with such mediocrity? I felt I must give 2 stars out of respect for the original cast that made this show such a huge success. As it is now, the show is just awful. I can't believe it's still on the air.\\n\"\n",
      " b'A wonderful little production. <br /><br />The filming technique is very unassuming- very old-time-BBC fashion and gives a comforting, and sometimes discomforting, sense of realism to the entire piece. <br /><br />The actors are extremely well chosen- Michael Sheen not only \"has got all the polari\" but he has all the voices down pat too! You can truly see the seamless editing guided by the references to Williams\\' diary entries, not only is it well worth the watching but it is a terrificly written and performed piece. A masterful production about one of the great master\\'s of comedy and his life. <br /><br />The realism really comes home with the little things: the fantasy of the guard which, rather than use the traditional \\'dream\\' techniques remains solid then disappears. It plays on our knowledge and our senses, particularly with the scenes concerning Orton and Halliwell and the sets (particularly of their flat with Halliwell\\'s murals decorating every surface) are terribly well done.\\n']\n",
      "label :  [b'positive' b'negative']\n",
      "text :  [b\"One of the other reviewers has mentioned that after watching just 1 Oz episode you'll be hooked. They are right, as this is exactly what happened with me.<br /><br />The first thing that struck me about Oz was its brutality and unflinching scenes of violence, which set in right from the word GO. Trust me, this is not a show for the faint hearted or timid. This show pulls no punches with regards to drugs, sex or violence. Its is hardcore, in the classic use of the word.<br /><br />It is called OZ as that is the nickname given to the Oswald Maximum Security State Penitentary. It focuses mainly on Emerald City, an experimental section of the prison where all the cells have glass fronts and face inwards, so privacy is not high on the agenda. Em City is home to many..Aryans, Muslims, gangstas, Latinos, Christians, Italians, Irish and more....so scuffles, death stares, dodgy dealings and shady agreements are never far away.<br /><br />I would say the main appeal of the show is due to the fact that it goes where other shows wouldn't dare. Forget pretty pictures painted for mainstream audiences, forget charm, forget romance...OZ doesn't mess around. The first episode I ever saw struck me as so nasty it was surreal, I couldn't say I was ready for it, but as I watched more, I developed a taste for Oz, and got accustomed to the high levels of graphic violence. Not just violence, but injustice (crooked guards who'll be sold out for a nickel, inmates who'll kill on order and get away with it, well mannered, middle class inmates being turned into prison bitches due to their lack of street skills or prison experience) Watching Oz, you may become comfortable with what is uncomfortable viewing....thats if you can get in touch with your darker side.\\n\"\n",
      " b\"Basically there's a family where a little boy (Jake) thinks there's a zombie in his closet & his parents are fighting all the time.<br /><br />This movie is slower than a soap opera... and suddenly, Jake decides to become Rambo and kill the zombie.<br /><br />OK, first of all when you're going to make a film you must Decide if its a thriller or a drama! As a drama the movie is watchable. Parents are divorcing & arguing like in real life. And then we have Jake with his closet which totally ruins all the film! I expected to see a BOOGEYMAN similar movie, and instead i watched a drama with some meaningless thriller spots.<br /><br />3 out of 10 just for the well playing parents & descent dialogs. As for the shots with Jake: just ignore them.\\n\"]\n"
     ]
    }
   ],
   "source": [
    "for i, j in tendataset:\n",
    "    print(\"label : \", i.numpy() )\n",
    "    print(\"text : \", j.numpy())"
   ]
  },
  {
   "cell_type": "code",
   "execution_count": null,
   "id": "26eb4e79-ac67-414e-960f-86ff8930fbb7",
   "metadata": {},
   "outputs": [],
   "source": []
  }
 ],
 "metadata": {
  "kernelspec": {
   "display_name": "Python 3 (ipykernel)",
   "language": "python",
   "name": "python3"
  },
  "language_info": {
   "codemirror_mode": {
    "name": "ipython",
    "version": 3
   },
   "file_extension": ".py",
   "mimetype": "text/x-python",
   "name": "python",
   "nbconvert_exporter": "python",
   "pygments_lexer": "ipython3",
   "version": "3.10.16"
  }
 },
 "nbformat": 4,
 "nbformat_minor": 5
}
