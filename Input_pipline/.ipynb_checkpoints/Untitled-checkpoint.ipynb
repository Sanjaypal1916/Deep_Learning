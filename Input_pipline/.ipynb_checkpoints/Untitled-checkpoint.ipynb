{
 "cells": [
  {
   "cell_type": "code",
   "execution_count": 2,
   "id": "38742048-130a-4557-a9dd-aa21f4b2e837",
   "metadata": {},
   "outputs": [],
   "source": [
    "import tensorflow as tf\n"
   ]
  },
  {
   "cell_type": "code",
   "execution_count": 3,
   "id": "076fe5d2-473d-4a1c-bf98-b1c6c809d246",
   "metadata": {},
   "outputs": [],
   "source": [
    "data_sales = [21, 34,24,23, -13, -70]\n",
    "dataset = tf.data.Dataset.from_tensor_slices(data_sales)"
   ]
  },
  {
   "cell_type": "code",
   "execution_count": 4,
   "id": "a8794d72-f159-41b5-87e4-14deb2f8e446",
   "metadata": {},
   "outputs": [
    {
     "data": {
      "text/plain": [
       "<TensorSliceDataset element_spec=TensorSpec(shape=(), dtype=tf.int32, name=None)>"
      ]
     },
     "execution_count": 4,
     "metadata": {},
     "output_type": "execute_result"
    }
   ],
   "source": [
    "dataset"
   ]
  },
  {
   "cell_type": "code",
   "execution_count": 5,
   "id": "65cd5f8e-8098-4f28-ac2e-c242d5f15520",
   "metadata": {},
   "outputs": [
    {
     "name": "stdout",
     "output_type": "stream",
     "text": [
      "tf.Tensor(21, shape=(), dtype=int32)\n",
      "tf.Tensor(34, shape=(), dtype=int32)\n",
      "tf.Tensor(24, shape=(), dtype=int32)\n",
      "tf.Tensor(23, shape=(), dtype=int32)\n",
      "tf.Tensor(-13, shape=(), dtype=int32)\n",
      "tf.Tensor(-70, shape=(), dtype=int32)\n"
     ]
    }
   ],
   "source": [
    "for i in dataset:\n",
    "    print(i)"
   ]
  },
  {
   "cell_type": "code",
   "execution_count": 6,
   "id": "a2ba84ce-a767-47a0-93b7-560b16a7dc61",
   "metadata": {},
   "outputs": [
    {
     "name": "stdout",
     "output_type": "stream",
     "text": [
      "21\n",
      "34\n",
      "24\n",
      "23\n",
      "-13\n",
      "-70\n"
     ]
    }
   ],
   "source": [
    "for i in dataset.as_numpy_iterator():\n",
    "    print(i)"
   ]
  },
  {
   "cell_type": "code",
   "execution_count": 7,
   "id": "42e6764b-7a35-44f1-8c8a-d17e855eef6c",
   "metadata": {},
   "outputs": [
    {
     "name": "stdout",
     "output_type": "stream",
     "text": [
      "21\n",
      "34\n",
      "24\n",
      "23\n"
     ]
    }
   ],
   "source": [
    "for i in dataset.filter(lambda x: x>0):\n",
    "    print(i.numpy())"
   ]
  },
  {
   "cell_type": "code",
   "execution_count": 8,
   "id": "3eaba73c-cf74-4462-8bb2-cd9bc40f7279",
   "metadata": {},
   "outputs": [
    {
     "name": "stdout",
     "output_type": "stream",
     "text": [
      "1869\n",
      "3026\n",
      "2136\n",
      "2047\n",
      "-1157\n",
      "-6230\n"
     ]
    }
   ],
   "source": [
    "for i in dataset.map(lambda x: x*89):\n",
    "    print(i.numpy())"
   ]
  },
  {
   "cell_type": "code",
   "execution_count": 9,
   "id": "4dec5198-2280-410e-80f1-5d98fbf1c989",
   "metadata": {},
   "outputs": [
    {
     "name": "stdout",
     "output_type": "stream",
     "text": [
      "24\n",
      "34\n",
      "21\n",
      "23\n",
      "-70\n",
      "-13\n"
     ]
    }
   ],
   "source": [
    "for i in dataset.shuffle(3):\n",
    "    print(i.numpy())"
   ]
  },
  {
   "cell_type": "code",
   "execution_count": 10,
   "id": "c9d211ff-ff4b-4583-b8d0-9c8381183e0f",
   "metadata": {},
   "outputs": [
    {
     "name": "stdout",
     "output_type": "stream",
     "text": [
      "[21 34 24]\n",
      "[ 23 -13 -70]\n"
     ]
    }
   ],
   "source": [
    "for i in dataset.batch(3):\n",
    "    print(i.numpy())"
   ]
  },
  {
   "cell_type": "code",
   "execution_count": 11,
   "id": "aa3f12e0-1d7c-413f-828d-475a16fffc1d",
   "metadata": {},
   "outputs": [
    {
     "name": "stdout",
     "output_type": "stream",
     "text": [
      "21\n",
      "34\n",
      "24\n",
      "23\n",
      "-13\n"
     ]
    }
   ],
   "source": [
    "for i in dataset.take(5):\n",
    "    print(i.numpy())"
   ]
  },
  {
   "cell_type": "code",
   "execution_count": 12,
   "id": "76ce404b-f8ee-40e4-8be2-99a875e9e1f4",
   "metadata": {},
   "outputs": [],
   "source": [
    "dataset = tf.data.Dataset.list_files(\"reviews/*/*\", shuffle=False)"
   ]
  },
  {
   "cell_type": "code",
   "execution_count": 14,
   "id": "585dd5fd-fdee-47d9-a277-7211ef8feaf6",
   "metadata": {},
   "outputs": [
    {
     "name": "stdout",
     "output_type": "stream",
     "text": [
      "b'reviews\\\\negative\\\\neg_1.txt'\n",
      "b'reviews\\\\negative\\\\neg_2.txt'\n",
      "b'reviews\\\\negative\\\\neg_3.txt'\n",
      "b'reviews\\\\positive\\\\pos_1.txt'\n",
      "b'reviews\\\\positive\\\\pos_2.txt'\n",
      "b'reviews\\\\positive\\\\pos_3.txt'\n"
     ]
    }
   ],
   "source": [
    "for i in dataset.as_numpy_iterator():\n",
    "    print(i)"
   ]
  },
  {
   "cell_type": "code",
   "execution_count": null,
   "id": "f384d5a3-d866-48f3-945c-9095b892477c",
   "metadata": {},
   "outputs": [],
   "source": []
  }
 ],
 "metadata": {
  "kernelspec": {
   "display_name": "Python 3 (ipykernel)",
   "language": "python",
   "name": "python3"
  },
  "language_info": {
   "codemirror_mode": {
    "name": "ipython",
    "version": 3
   },
   "file_extension": ".py",
   "mimetype": "text/x-python",
   "name": "python",
   "nbconvert_exporter": "python",
   "pygments_lexer": "ipython3",
   "version": "3.10.16"
  }
 },
 "nbformat": 4,
 "nbformat_minor": 5
}
