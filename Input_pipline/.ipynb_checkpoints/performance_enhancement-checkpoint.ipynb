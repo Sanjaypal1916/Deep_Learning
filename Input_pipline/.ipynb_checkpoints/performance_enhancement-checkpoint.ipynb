{
 "cells": [
  {
   "cell_type": "markdown",
   "id": "af47dd6b-797c-4484-ac2c-829f0d65d814",
   "metadata": {},
   "source": [
    "use prefetch and cache for performance enhhancement"
   ]
  },
  {
   "cell_type": "code",
   "execution_count": null,
   "id": "1cf81432-c41f-4965-bb94-e21ec1e131b6",
   "metadata": {},
   "outputs": [],
   "source": [
    "tensor_dataset.list_files(\"reviews\").map(transform).filter(lambda x: x>0).prefetch(tf.data.AUTOTUNE)\n",
    "tensor_dataset.list_files(\"reviews\").map(transform).filter(lambda x: x>0).cache()"
   ]
  }
 ],
 "metadata": {
  "kernelspec": {
   "display_name": "Python 3 (ipykernel)",
   "language": "python",
   "name": "python3"
  },
  "language_info": {
   "codemirror_mode": {
    "name": "ipython",
    "version": 3
   },
   "file_extension": ".py",
   "mimetype": "text/x-python",
   "name": "python",
   "nbconvert_exporter": "python",
   "pygments_lexer": "ipython3",
   "version": "3.10.16"
  }
 },
 "nbformat": 4,
 "nbformat_minor": 5
}
