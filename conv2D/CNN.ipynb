{
 "cells": [
  {
   "cell_type": "code",
   "execution_count": 27,
   "id": "b07f77a9-a0ac-42dc-8b4b-a71cc4970517",
   "metadata": {},
   "outputs": [],
   "source": [
    "import tensorflow as tf\n",
    "from tensorflow import keras\n",
    "from tensorflow.keras import datasets, layers, models\n",
    "import numpy as np\n"
   ]
  },
  {
   "cell_type": "code",
   "execution_count": 12,
   "id": "bbf62e9a-c97f-4a35-8a0c-1239adc6be12",
   "metadata": {},
   "outputs": [],
   "source": [
    "(X_train, y_train), (X_test, y_test) = datasets.cifar10.load_data()"
   ]
  },
  {
   "cell_type": "code",
   "execution_count": 13,
   "id": "83ffe9fa-5ca3-4d8b-b15b-fbaac4813d54",
   "metadata": {},
   "outputs": [
    {
     "data": {
      "text/plain": [
       "(50000, 32, 32, 3)"
      ]
     },
     "execution_count": 13,
     "metadata": {},
     "output_type": "execute_result"
    }
   ],
   "source": [
    "X_train.shape"
   ]
  },
  {
   "cell_type": "code",
   "execution_count": 14,
   "id": "dd4f3d0c-3a8c-4967-b0c9-a32e52bb6ad3",
   "metadata": {},
   "outputs": [
    {
     "data": {
      "text/plain": [
       "(10000, 32, 32, 3)"
      ]
     },
     "execution_count": 14,
     "metadata": {},
     "output_type": "execute_result"
    }
   ],
   "source": [
    "X_test.shape"
   ]
  },
  {
   "cell_type": "code",
   "execution_count": 17,
   "id": "1baa7c75-183a-40da-a064-6b00f0b08855",
   "metadata": {},
   "outputs": [],
   "source": [
    "X_train = X_train/255.0\n"
   ]
  },
  {
   "cell_type": "code",
   "execution_count": 18,
   "id": "c7e5d34b-071e-41fd-9486-8d78abdbdc04",
   "metadata": {},
   "outputs": [],
   "source": [
    "X_test = X_test/255.0"
   ]
  },
  {
   "cell_type": "code",
   "execution_count": 24,
   "id": "64a40ec3-95ad-4938-a695-55d0a30e2d64",
   "metadata": {},
   "outputs": [
    {
     "data": {
      "text/plain": [
       "0"
      ]
     },
     "execution_count": 24,
     "metadata": {},
     "output_type": "execute_result"
    }
   ],
   "source": [
    "y_test.min()"
   ]
  },
  {
   "cell_type": "code",
   "execution_count": 19,
   "id": "537870a0-b911-46bc-9b28-b092a07a867e",
   "metadata": {},
   "outputs": [],
   "source": [
    "classes = [\"airplane\",\"automobile\",\"bird\",\"cat\",\"deer\",\"dog\",\"frog\",\"horse\",\"ship\",\"truck\"]"
   ]
  },
  {
   "cell_type": "code",
   "execution_count": 34,
   "id": "17dc70b1-d5a3-4ec6-924c-9e330a53a07e",
   "metadata": {},
   "outputs": [],
   "source": [
    "cnn = keras.Sequential([\n",
    "    layers.Conv2D(filters=32, kernel_size=(3,3),  activation='relu', input_shape=(32, 32, 3)),\n",
    "    layers.MaxPooling2D(2,2),\n",
    "\n",
    "    layers.Conv2D(filters=64, kernel_size=(3,3), activation=\"relu\"),\n",
    "    layers.MaxPooling2D(2,2), \n",
    "\n",
    "    layers.Flatten(),\n",
    "    layers.Dense(64, activation=\"relu\"),\n",
    "    layers.Dense(10,activation=\"softmax\")\n",
    "])\n",
    "\n",
    "cnn.compile(optimizer=\"adam\",\n",
    "            loss = \"sparse_categorical_crossentropy\",\n",
    "            metrics=[\"accuracy\"]\n",
    "           )"
   ]
  },
  {
   "cell_type": "code",
   "execution_count": 36,
   "id": "a8f8dfd6-ba30-436f-9c45-05f9f8ea3a1f",
   "metadata": {},
   "outputs": [
    {
     "name": "stdout",
     "output_type": "stream",
     "text": [
      "Epoch 1/20\n",
      "1563/1563 [==============================] - 5s 3ms/step - loss: 0.6144 - accuracy: 0.7857\n",
      "Epoch 2/20\n",
      "1563/1563 [==============================] - 5s 3ms/step - loss: 0.5869 - accuracy: 0.7937\n",
      "Epoch 3/20\n",
      "1563/1563 [==============================] - 5s 3ms/step - loss: 0.5498 - accuracy: 0.8093\n",
      "Epoch 4/20\n",
      "1563/1563 [==============================] - 5s 3ms/step - loss: 0.5226 - accuracy: 0.8176\n",
      "Epoch 5/20\n",
      "1563/1563 [==============================] - 5s 3ms/step - loss: 0.4977 - accuracy: 0.8268\n",
      "Epoch 6/20\n",
      "1563/1563 [==============================] - 5s 3ms/step - loss: 0.4725 - accuracy: 0.8348\n",
      "Epoch 7/20\n",
      "1563/1563 [==============================] - 5s 3ms/step - loss: 0.4472 - accuracy: 0.8434\n",
      "Epoch 8/20\n",
      "1563/1563 [==============================] - 5s 3ms/step - loss: 0.4216 - accuracy: 0.8524\n",
      "Epoch 9/20\n",
      "1563/1563 [==============================] - 5s 3ms/step - loss: 0.4031 - accuracy: 0.8594\n",
      "Epoch 10/20\n",
      "1563/1563 [==============================] - 5s 3ms/step - loss: 0.3841 - accuracy: 0.8638\n",
      "Epoch 11/20\n",
      "1563/1563 [==============================] - 5s 3ms/step - loss: 0.3646 - accuracy: 0.8729\n",
      "Epoch 12/20\n",
      "1563/1563 [==============================] - 5s 3ms/step - loss: 0.3440 - accuracy: 0.8792\n",
      "Epoch 13/20\n",
      "1563/1563 [==============================] - 6s 4ms/step - loss: 0.3284 - accuracy: 0.8827\n",
      "Epoch 14/20\n",
      "1563/1563 [==============================] - 5s 3ms/step - loss: 0.3050 - accuracy: 0.8917\n",
      "Epoch 15/20\n",
      "1563/1563 [==============================] - 5s 3ms/step - loss: 0.2960 - accuracy: 0.8944\n",
      "Epoch 16/20\n",
      "1563/1563 [==============================] - 5s 3ms/step - loss: 0.2822 - accuracy: 0.9000\n",
      "Epoch 17/20\n",
      "1563/1563 [==============================] - 5s 3ms/step - loss: 0.2668 - accuracy: 0.9056\n",
      "Epoch 18/20\n",
      "1563/1563 [==============================] - 5s 3ms/step - loss: 0.2582 - accuracy: 0.9085\n",
      "Epoch 19/20\n",
      "1563/1563 [==============================] - 5s 3ms/step - loss: 0.2421 - accuracy: 0.9135\n",
      "Epoch 20/20\n",
      "1563/1563 [==============================] - 5s 3ms/step - loss: 0.2300 - accuracy: 0.9181\n"
     ]
    },
    {
     "data": {
      "text/plain": [
       "<keras.callbacks.History at 0x21dd7d37bb0>"
      ]
     },
     "execution_count": 36,
     "metadata": {},
     "output_type": "execute_result"
    }
   ],
   "source": [
    "cnn.fit(X_train, y_train, epochs=20)"
   ]
  },
  {
   "cell_type": "code",
   "execution_count": 39,
   "id": "11f29c80-a0f6-473a-9fed-e08a09502a27",
   "metadata": {},
   "outputs": [
    {
     "name": "stdout",
     "output_type": "stream",
     "text": [
      "313/313 [==============================] - 1s 4ms/step - loss: 1.6365 - accuracy: 0.6799\n"
     ]
    },
    {
     "data": {
      "text/plain": [
       "[1.6364829540252686, 0.6798999905586243]"
      ]
     },
     "execution_count": 39,
     "metadata": {},
     "output_type": "execute_result"
    }
   ],
   "source": [
    "cnn.evaluate(X_test, y_test)"
   ]
  },
  {
   "cell_type": "code",
   "execution_count": 40,
   "id": "24a242d1-125e-462e-8169-311769e8a5d4",
   "metadata": {},
   "outputs": [
    {
     "name": "stdout",
     "output_type": "stream",
     "text": [
      "313/313 [==============================] - 1s 2ms/step\n"
     ]
    }
   ],
   "source": [
    "y_pred = cnn.predict(X_test)"
   ]
  },
  {
   "cell_type": "code",
   "execution_count": 49,
   "id": "4c74b7a2-5e92-484a-a491-5ec13c0e78db",
   "metadata": {},
   "outputs": [
    {
     "data": {
      "text/plain": [
       "'airplane'"
      ]
     },
     "execution_count": 49,
     "metadata": {},
     "output_type": "execute_result"
    }
   ],
   "source": [
    "classes[np.argmax(y_pred[3])]"
   ]
  },
  {
   "cell_type": "code",
   "execution_count": 50,
   "id": "fb14c777-7c9b-42f6-9e24-f60564fd3434",
   "metadata": {},
   "outputs": [
    {
     "data": {
      "text/plain": [
       "'airplane'"
      ]
     },
     "execution_count": 50,
     "metadata": {},
     "output_type": "execute_result"
    }
   ],
   "source": [
    "classes[np.argmax(y_test[3])]"
   ]
  },
  {
   "cell_type": "code",
   "execution_count": null,
   "id": "222e7af8-8423-4dbe-a803-030a69b98fae",
   "metadata": {},
   "outputs": [],
   "source": []
  }
 ],
 "metadata": {
  "kernelspec": {
   "display_name": "Python 3 (ipykernel)",
   "language": "python",
   "name": "python3"
  },
  "language_info": {
   "codemirror_mode": {
    "name": "ipython",
    "version": 3
   },
   "file_extension": ".py",
   "mimetype": "text/x-python",
   "name": "python",
   "nbconvert_exporter": "python",
   "pygments_lexer": "ipython3",
   "version": "3.10.16"
  }
 },
 "nbformat": 4,
 "nbformat_minor": 5
}
